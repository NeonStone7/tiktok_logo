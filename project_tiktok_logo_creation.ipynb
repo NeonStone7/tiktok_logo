{
 "cells": [
  {
   "cell_type": "code",
   "execution_count": 4,
   "id": "35e9e020",
   "metadata": {},
   "outputs": [],
   "source": [
    "from turtle import *"
   ]
  },
  {
   "cell_type": "code",
   "execution_count": 5,
   "id": "498ebd1c",
   "metadata": {},
   "outputs": [],
   "source": [
    "width(20)\n",
    "bgcolor('hotpink')\n",
    "colors=['#db0f3c','#50ebe7','white']\n",
    "position=[(0,0),(-5,13),(-5,5)]\n",
    "for (i,j),k in zip(position,colors):\n",
    "    up()\n",
    "    goto(i,j)\n",
    "    down()\n",
    "    color(k)\n",
    "    left(180)\n",
    "    circle(50,270)\n",
    "    forward(120)\n",
    "    left(180)\n",
    "    circle(50,90)\n"
   ]
  },
  {
   "cell_type": "code",
   "execution_count": null,
   "id": "1260ea3f",
   "metadata": {
    "collapsed": true
   },
   "outputs": [],
   "source": []
  },
  {
   "cell_type": "raw",
   "id": "bc558fbb",
   "metadata": {},
   "source": []
  },
  {
   "cell_type": "raw",
   "id": "fdea2878",
   "metadata": {},
   "source": []
  }
 ],
 "metadata": {
  "kernelspec": {
   "display_name": "Python 3",
   "language": "python",
   "name": "python3"
  },
  "language_info": {
   "codemirror_mode": {
    "name": "ipython",
    "version": 3
   },
   "file_extension": ".py",
   "mimetype": "text/x-python",
   "name": "python",
   "nbconvert_exporter": "python",
   "pygments_lexer": "ipython3",
   "version": "3.8.8"
  }
 },
 "nbformat": 4,
 "nbformat_minor": 5
}
